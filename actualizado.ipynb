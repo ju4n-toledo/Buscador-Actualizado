{
  "nbformat": 4,
  "nbformat_minor": 0,
  "metadata": {
    "colab": {
      "provenance": [],
      "authorship_tag": "ABX9TyP6J5yz4mEEzj1FFZrYZnep",
      "include_colab_link": true
    },
    "kernelspec": {
      "name": "python3",
      "display_name": "Python 3"
    },
    "language_info": {
      "name": "python"
    }
  },
  "cells": [
    {
      "cell_type": "markdown",
      "metadata": {
        "id": "view-in-github",
        "colab_type": "text"
      },
      "source": [
        "<a href=\"https://colab.research.google.com/github/ju4n-toledo/Buscador-Actualizado/blob/main/actualizado.ipynb\" target=\"_parent\"><img src=\"https://colab.research.google.com/assets/colab-badge.svg\" alt=\"Open In Colab\"/></a>"
      ]
    },
    {
      "cell_type": "code",
      "execution_count": 1,
      "metadata": {
        "colab": {
          "base_uri": "https://localhost:8080/",
          "height": 384
        },
        "id": "D74plDiQH5NG",
        "outputId": "e119f83f-daa4-4d38-e4ff-27da7d5d443c"
      },
      "outputs": [
        {
          "output_type": "error",
          "ename": "ModuleNotFoundError",
          "evalue": "No module named 'streamlit'",
          "traceback": [
            "\u001b[0;31m---------------------------------------------------------------------------\u001b[0m",
            "\u001b[0;31mModuleNotFoundError\u001b[0m                       Traceback (most recent call last)",
            "\u001b[0;32m<ipython-input-1-aa58835e5934>\u001b[0m in \u001b[0;36m<cell line: 0>\u001b[0;34m()\u001b[0m\n\u001b[0;32m----> 1\u001b[0;31m \u001b[0;32mimport\u001b[0m \u001b[0mstreamlit\u001b[0m \u001b[0;32mas\u001b[0m \u001b[0mst\u001b[0m\u001b[0;34m\u001b[0m\u001b[0;34m\u001b[0m\u001b[0m\n\u001b[0m\u001b[1;32m      2\u001b[0m \u001b[0;32mimport\u001b[0m \u001b[0mpandas\u001b[0m \u001b[0;32mas\u001b[0m \u001b[0mpd\u001b[0m\u001b[0;34m\u001b[0m\u001b[0;34m\u001b[0m\u001b[0m\n\u001b[1;32m      3\u001b[0m \u001b[0;34m\u001b[0m\u001b[0m\n\u001b[1;32m      4\u001b[0m \u001b[0mst\u001b[0m\u001b[0;34m.\u001b[0m\u001b[0mset_page_config\u001b[0m\u001b[0;34m(\u001b[0m\u001b[0mpage_title\u001b[0m\u001b[0;34m=\u001b[0m\u001b[0;34m\"Buscador de Repuestos\"\u001b[0m\u001b[0;34m,\u001b[0m \u001b[0mlayout\u001b[0m\u001b[0;34m=\u001b[0m\u001b[0;34m\"wide\"\u001b[0m\u001b[0;34m)\u001b[0m\u001b[0;34m\u001b[0m\u001b[0;34m\u001b[0m\u001b[0m\n\u001b[1;32m      5\u001b[0m \u001b[0;34m\u001b[0m\u001b[0m\n",
            "\u001b[0;31mModuleNotFoundError\u001b[0m: No module named 'streamlit'",
            "",
            "\u001b[0;31m---------------------------------------------------------------------------\u001b[0;32m\nNOTE: If your import is failing due to a missing package, you can\nmanually install dependencies using either !pip or !apt.\n\nTo view examples of installing some common dependencies, click the\n\"Open Examples\" button below.\n\u001b[0;31m---------------------------------------------------------------------------\u001b[0m\n"
          ],
          "errorDetails": {
            "actions": [
              {
                "action": "open_url",
                "actionText": "Open Examples",
                "url": "/notebooks/snippets/importing_libraries.ipynb"
              }
            ]
          }
        }
      ],
      "source": [
        "import streamlit as st\n",
        "import pandas as pd\n",
        "\n",
        "st.set_page_config(page_title=\"Buscador de Repuestos\", layout=\"wide\")\n",
        "\n",
        "st.title(\"🔍 Buscador de Repuestos\")\n",
        "st.markdown(\"Busca un repuesto por nombre, referencia o ubicación.\")\n",
        "\n",
        "@st.cache_data\n",
        "def cargar_datos():\n",
        "    return pd.read_excel(\"BUSCADOR_REPUESTOS_CONVERTIDO.xlsx\", sheet_name=\"INVENTARIO\")\n",
        "\n",
        "df = cargar_datos()\n",
        "\n",
        "# Preparar columnas para búsqueda\n",
        "df[\"DESCRIPCION\"] = df[\"DESCRIPCION\"].astype(str)\n",
        "df[\"REFERENCIA\"] = df[\"REFERENCIA\"].astype(str)\n",
        "df[\"UBICACION\"] = df[\"UBICACION\"].astype(str)\n",
        "\n",
        "# Cuadro de búsqueda\n",
        "busqueda = st.text_input(\"🔎 Escribe parte del nombre, referencia o ubicación:\").strip().lower()\n",
        "\n",
        "if busqueda:\n",
        "    resultados = df[\n",
        "        df[\"DESCRIPCION\"].str.lower().str.contains(busqueda) |\n",
        "        df[\"REFERENCIA\"].str.lower().str.contains(busqueda) |\n",
        "        df[\"UBICACION\"].str.lower().str.contains(busqueda)\n",
        "    ]\n",
        "    st.write(f\"🔧 {len(resultados)} repuestos encontrados:\")\n",
        "    for _, row in resultados.iterrows():\n",
        "        st.markdown(\"---\")\n",
        "        st.subheader(f\"🔩 {row['DESCRIPCION']}\")\n",
        "        st.write(f\"**Referencia:** {row['REFERENCIA']}\")\n",
        "        st.write(f\"**Ubicación:** {row['UBICACION']}\")\n",
        "        st.write(f\"**Casa Comercial:** {row['CASA COMERCIAL']}\")\n",
        "        st.write(f\"**Cantidad Disponible:** {row['CANTIDAD']}\")\n",
        "        if \"traduccion\" in row:\n",
        "            st.write(f\"**traduccion:** {row['traduccion']}\")\n",
        "        if \"analizador\" in row:\n",
        "            st.write(f\"**analizador:** {row['analizador']}\")\n",
        "\n",
        "        # Mostrar imagen si está disponible\n",
        "        if pd.notna(row.get(\"IMAGEN CONVERTIDA\", None)):\n",
        "            st.image(row[\"IMAGEN CONVERTIDA\"], width=300)\n",
        "else:\n",
        "    st.info(\"Escribe un término para iniciar la búsqueda.\")\n"
      ]
    }
  ]
}